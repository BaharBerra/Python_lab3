{
 "cells": [
  {
   "cell_type": "code",
   "execution_count": 1,
   "id": "783150ac-7c23-4806-a5d5-d9a068c19dab",
   "metadata": {},
   "outputs": [
    {
     "data": {
      "text/plain": [
       "2"
      ]
     },
     "execution_count": 1,
     "metadata": {},
     "output_type": "execute_result"
    }
   ],
   "source": [
    "L = 'B'  # First letter of my name\n",
    "N = ord(L) % 5 + 1\n",
    "N"
   ]
  },
  {
   "cell_type": "code",
   "execution_count": 4,
   "id": "0ffdd8bc-14e5-4560-8faf-96fd6d6339e8",
   "metadata": {},
   "outputs": [
    {
     "name": "stdout",
     "output_type": "stream",
     "text": [
      "Index(['Id', 'Name', 'Year', 'Gender', 'Count'], dtype='object')\n"
     ]
    }
   ],
   "source": [
    "import pandas as pd\n",
    "\n",
    "# Load the US Baby Names dataset\n",
    "df = pd.read_csv(\"NationalNames.csv\")\n",
    "\n",
    "#Ex.3\n",
    "# Get the column names of the dataset\n",
    "columns = df.columns\n",
    "print(columns)\n"
   ]
  },
  {
   "cell_type": "code",
   "execution_count": 3,
   "id": "dbef1fda-9df1-4ed9-b1b4-4731149d1eb6",
   "metadata": {},
   "outputs": [
    {
     "name": "stdout",
     "output_type": "stream",
     "text": [
      "                 Id          Year         Count\n",
      "count  1.825433e+06  1.825433e+06  1.825433e+06\n",
      "mean   9.127170e+05  1.972620e+03  1.846879e+02\n",
      "std    5.269573e+05  3.352891e+01  1.566711e+03\n",
      "min    1.000000e+00  1.880000e+03  5.000000e+00\n",
      "25%    4.563590e+05  1.949000e+03  7.000000e+00\n",
      "50%    9.127170e+05  1.982000e+03  1.200000e+01\n",
      "75%    1.369075e+06  2.001000e+03  3.200000e+01\n",
      "max    1.825433e+06  2.014000e+03  9.968000e+04\n"
     ]
    }
   ],
   "source": [
    "#Ex.4\n",
    "# Get general information (summary statistics) about the data\n",
    "general_info = df.describe()\n",
    "print(general_info)\n"
   ]
  },
  {
   "cell_type": "code",
   "execution_count": 17,
   "id": "23f928a1-3465-4828-a3de-957e4d42dc14",
   "metadata": {},
   "outputs": [
    {
     "name": "stdout",
     "output_type": "stream",
     "text": [
      "93889\n"
     ]
    }
   ],
   "source": [
    "#Ex.5\n",
    "# Count the number of unique names\n",
    "unique_names_count = df['Name'].nunique()\n",
    "print(unique_names_count)\n"
   ]
  },
  {
   "cell_type": "code",
   "execution_count": 6,
   "id": "19c766be-842a-4bcf-8243-501ecc5cea5e",
   "metadata": {},
   "outputs": [
    {
     "name": "stdout",
     "output_type": "stream",
     "text": [
      "The most popular name is 'Linda' in 1947.\n"
     ]
    }
   ],
   "source": [
    "#Ex.8\n",
    "# Find the row with the maximum count in the dataset\n",
    "most_popular_name_row = df.loc[df['Count'].idxmax()]\n",
    "\n",
    "# Get the name and year for which the count is maximum\n",
    "most_popular_name = most_popular_name_row['Name']\n",
    "most_popular_year = most_popular_name_row['Year']\n",
    "\n",
    "print(f\"The most popular name is '{most_popular_name}' in {most_popular_year}.\")\n",
    "\n"
   ]
  },
  {
   "cell_type": "code",
   "execution_count": 23,
   "id": "4c7782e0-3a03-48a9-af42-1f4d19e613ba",
   "metadata": {},
   "outputs": [
    {
     "name": "stdout",
     "output_type": "stream",
     "text": [
      "254615\n"
     ]
    }
   ],
   "source": [
    "#Ex.9\n",
    "# Find the number of records with the minimum count\n",
    "min_count = df['Count'].min()\n",
    "min_count_records = df[df['Count'] == min_count].shape[0]\n",
    "print(min_count_records)\n"
   ]
  },
  {
   "cell_type": "code",
   "execution_count": 6,
   "id": "5e2807d5-a0ef-41d2-a774-b631ecd39556",
   "metadata": {},
   "outputs": [
    {
     "name": "stdout",
     "output_type": "stream",
     "text": [
      "       Name\n",
      "Year       \n",
      "2008  32488\n"
     ]
    }
   ],
   "source": [
    "#Ex.11\n",
    "# Group the data by 'Year' and count unique names for each year\n",
    "unique_names_per_year = df.groupby('Year')['Name'].nunique()\n",
    "\n",
    "# Find the year with the most unique names\n",
    "year_most_unique_names = unique_names_per_year.idxmax()\n",
    "most_unique_names_count = unique_names_per_year.max()\n",
    "\n",
    "result = pd.DataFrame({'Year': [year_most_unique_names], 'Name': [most_unique_names_count]})\n",
    "result.set_index('Year', inplace=True)\n",
    "\n",
    "print(result)\n"
   ]
  },
  {
   "cell_type": "code",
   "execution_count": 18,
   "id": "9c161ee2-1a87-4e88-a85b-f8ec8bf4619c",
   "metadata": {},
   "outputs": [
    {
     "name": "stdout",
     "output_type": "stream",
     "text": [
      "Jacob\n"
     ]
    }
   ],
   "source": [
    "#Ex.12\n",
    "# Filter the dataset for 2008 and find the most popular name\n",
    "df_2008 = df[df['Year'] == most_unique_names_year]\n",
    "most_popular_name_2008 = df_2008[df_2008['Count'] == df_2008['Count'].max()]['Name'].values[0]\n",
    "print(most_popular_name_2008)\n"
   ]
  },
  {
   "cell_type": "code",
   "execution_count": 16,
   "id": "fc9b2ef0-24a9-4047-92b0-1d7ca5f0e636",
   "metadata": {},
   "outputs": [
    {
     "name": "stdout",
     "output_type": "stream",
     "text": [
      "              Id   Name  Year Gender  Count\n",
      "1455556  1455557  Jacob  2004      F    171\n"
     ]
    }
   ],
   "source": [
    "#Ex.13\n",
    "# Find the year when 'Jacob' was most popular as a female name\n",
    "jacob_female = df[(df['Name'] == 'Jacob') & (df['Gender'] == 'F')]\n",
    "most_popular_jacob_female_year = jacob_female[jacob_female['Count'] == jacob_female['Count'].max()]\n",
    "print(most_popular_jacob_female_year)\n"
   ]
  },
  {
   "cell_type": "code",
   "execution_count": 24,
   "id": "534b8b17-6005-4073-b1d0-a1bfa45181fb",
   "metadata": {},
   "outputs": [
    {
     "name": "stdout",
     "output_type": "stream",
     "text": [
      "      Gender_neutral_names\n",
      "Year                      \n",
      "2009                  7372\n"
     ]
    }
   ],
   "source": [
    "#Ex.14\n",
    "# Filter the dataset to find gender-neutral names (names that appear for both male and female)\n",
    "gender_neutral_names = df.groupby('Name').filter(lambda x: len(x['Gender'].unique()) == 2)\n",
    "\n",
    "# Group by 'Year' and count the number of unique gender-neutral names per year\n",
    "gender_neutral_counts_per_year = gender_neutral_names.groupby('Year')['Name'].nunique()\n",
    "\n",
    "# Find the year with the most gender-neutral names\n",
    "year_most_gender_neutral = gender_neutral_counts_per_year.idxmax()\n",
    "most_gender_neutral_count = gender_neutral_counts_per_year.max()\n",
    "\n",
    "result = pd.DataFrame({'Year': [year_most_gender_neutral], 'Gender_neutral_names': [most_gender_neutral_count]})\n",
    "result.set_index('Year', inplace=True)\n",
    "\n",
    "print(result)\n"
   ]
  },
  {
   "cell_type": "code",
   "execution_count": 28,
   "id": "e7f303c9-0446-499e-8b6a-72f48da0a303",
   "metadata": {},
   "outputs": [
    {
     "name": "stdout",
     "output_type": "stream",
     "text": [
      "1957\n"
     ]
    }
   ],
   "source": [
    "#Ex.16\n",
    "# Find the year with the greatest number of births\n",
    "year_greatest_births = total_births_per_year.idxmax()\n",
    "print(year_greatest_births)"
   ]
  },
  {
   "cell_type": "code",
   "execution_count": 29,
   "id": "03783a44-0bd5-44d1-820d-36f3c7ecbdfb",
   "metadata": {},
   "outputs": [
    {
     "name": "stdout",
     "output_type": "stream",
     "text": [
      "Gender       F       M\n",
      "Year                  \n",
      "1880     90993  110491\n",
      "1881     91954  100745\n",
      "1882    107850  113688\n",
      "1883    112321  104629\n",
      "1884    129022  114445\n"
     ]
    }
   ],
   "source": [
    "#Ex.17\n",
    "# Count births by gender per year\n",
    "births_by_gender = df.groupby(['Year', 'Gender'])['Count'].sum().unstack(fill_value=0)\n",
    "print(births_by_gender.head())\n"
   ]
  },
  {
   "cell_type": "code",
   "execution_count": 30,
   "id": "c0ed31f0-f736-46cc-90b6-515a97865eb8",
   "metadata": {},
   "outputs": [
    {
     "name": "stdout",
     "output_type": "stream",
     "text": [
      "54\n"
     ]
    }
   ],
   "source": [
    "#Ex.18\n",
    "# Count the number of years with more girls born than boys\n",
    "years_more_girls = (births_by_gender['F'] > births_by_gender['M']).sum()\n",
    "print(years_more_girls)\n"
   ]
  },
  {
   "cell_type": "code",
   "execution_count": 36,
   "id": "6131c61b-a751-491c-bcbe-afaa159fa66b",
   "metadata": {},
   "outputs": [
    {
     "name": "stdout",
     "output_type": "stream",
     "text": [
      "Requirement already satisfied: pandas in c:\\users\\bahar\\documents\\anaconda3\\envs\\lab3\\lib\\site-packages (2.2.3)\n",
      "Requirement already satisfied: numpy in c:\\users\\bahar\\documents\\anaconda3\\envs\\lab3\\lib\\site-packages (2.1.1)\n",
      "Collecting matplotlib\n",
      "  Using cached matplotlib-3.9.2-cp312-cp312-win_amd64.whl.metadata (11 kB)\n",
      "Requirement already satisfied: python-dateutil>=2.8.2 in c:\\users\\bahar\\documents\\anaconda3\\envs\\lab3\\lib\\site-packages (from pandas) (2.9.0.post0)\n",
      "Requirement already satisfied: pytz>=2020.1 in c:\\users\\bahar\\documents\\anaconda3\\envs\\lab3\\lib\\site-packages (from pandas) (2024.1)\n",
      "Requirement already satisfied: tzdata>=2022.7 in c:\\users\\bahar\\documents\\anaconda3\\envs\\lab3\\lib\\site-packages (from pandas) (2024.2)\n",
      "Collecting contourpy>=1.0.1 (from matplotlib)\n",
      "  Using cached contourpy-1.3.0-cp312-cp312-win_amd64.whl.metadata (5.4 kB)\n",
      "Collecting cycler>=0.10 (from matplotlib)\n",
      "  Using cached cycler-0.12.1-py3-none-any.whl.metadata (3.8 kB)\n",
      "Collecting fonttools>=4.22.0 (from matplotlib)\n",
      "  Using cached fonttools-4.54.1-cp312-cp312-win_amd64.whl.metadata (167 kB)\n",
      "Collecting kiwisolver>=1.3.1 (from matplotlib)\n",
      "  Using cached kiwisolver-1.4.7-cp312-cp312-win_amd64.whl.metadata (6.4 kB)\n",
      "Requirement already satisfied: packaging>=20.0 in c:\\users\\bahar\\documents\\anaconda3\\envs\\lab3\\lib\\site-packages (from matplotlib) (24.1)\n",
      "Collecting pillow>=8 (from matplotlib)\n",
      "  Using cached pillow-10.4.0-cp312-cp312-win_amd64.whl.metadata (9.3 kB)\n",
      "Collecting pyparsing>=2.3.1 (from matplotlib)\n",
      "  Using cached pyparsing-3.1.4-py3-none-any.whl.metadata (5.1 kB)\n",
      "Requirement already satisfied: six>=1.5 in c:\\users\\bahar\\documents\\anaconda3\\envs\\lab3\\lib\\site-packages (from python-dateutil>=2.8.2->pandas) (1.16.0)\n",
      "Using cached matplotlib-3.9.2-cp312-cp312-win_amd64.whl (7.8 MB)\n",
      "Using cached contourpy-1.3.0-cp312-cp312-win_amd64.whl (218 kB)\n",
      "Using cached cycler-0.12.1-py3-none-any.whl (8.3 kB)\n",
      "Using cached fonttools-4.54.1-cp312-cp312-win_amd64.whl (2.2 MB)\n",
      "Using cached kiwisolver-1.4.7-cp312-cp312-win_amd64.whl (55 kB)\n",
      "Using cached pillow-10.4.0-cp312-cp312-win_amd64.whl (2.6 MB)\n",
      "Using cached pyparsing-3.1.4-py3-none-any.whl (104 kB)\n",
      "Installing collected packages: pyparsing, pillow, kiwisolver, fonttools, cycler, contourpy, matplotlib\n",
      "Successfully installed contourpy-1.3.0 cycler-0.12.1 fonttools-4.54.1 kiwisolver-1.4.7 matplotlib-3.9.2 pillow-10.4.0 pyparsing-3.1.4\n"
     ]
    }
   ],
   "source": [
    "!pip install pandas numpy matplotlib"
   ]
  },
  {
   "cell_type": "code",
   "execution_count": 37,
   "id": "5d41f5c4-bab5-4a20-912f-1b3e0b97006e",
   "metadata": {},
   "outputs": [
    {
     "data": {
      "image/png": "[encoded data removed]",
      "text/plain": [
       "<Figure size 1000x600 with 1 Axes>"
      ]
     },
     "metadata": {},
     "output_type": "display_data"
    }
   ],
   "source": [
    "#Ex.19\n",
    "import pandas as pd\n",
    "import matplotlib.pyplot as plt\n",
    "\n",
    "# Group by 'Year' and 'Gender', and sum the 'Count' column to get the total number of births per gender per year\n",
    "total_births_per_year_gender = df.groupby(['Year', 'Gender'])['Count'].sum().unstack()\n",
    "\n",
    "# Plot the total births per year for each gender\n",
    "total_births_per_year_gender.plot(kind='line', figsize=(10, 6))\n",
    "\n",
    "# Set plot labels and title\n",
    "plt.xlabel('Year')\n",
    "plt.ylabel('Total births per year')\n",
    "plt.title('Total births per year by gender')\n",
    "\n",
    "# Show legend and plot\n",
    "plt.legend(title='Gender')\n",
    "plt.show()\n"
   ]
  },
  {
   "cell_type": "code",
   "execution_count": 32,
   "id": "9e2bb4d5-afd3-4643-90e4-0f5cf50e6405",
   "metadata": {},
   "outputs": [
    {
     "name": "stdout",
     "output_type": "stream",
     "text": [
      "10221\n"
     ]
    }
   ],
   "source": [
    "#Ex.20\n",
    "# Count the number of gender-neutral names\n",
    "gender_neutral_name_counts = df.groupby('Name').filter(lambda x: len(x['Gender'].unique()) == 2)\n",
    "unique_gender_neutral_names_count = gender_neutral_name_counts['Name'].nunique()\n",
    "print(unique_gender_neutral_names_count)\n"
   ]
  },
  {
   "cell_type": "code",
   "execution_count": 39,
   "id": "e9a4d57b-2ca9-410c-bf59-6d24088b3037",
   "metadata": {},
   "outputs": [
    {
     "name": "stdout",
     "output_type": "stream",
     "text": [
      "The observation was carried out for 135 years.\n"
     ]
    }
   ],
   "source": [
    "#Ex.22\n",
    "# Calculate the number of unique years in the dataset\n",
    "number_of_years = df['Year'].nunique()\n",
    "print(f'The observation was carried out for {number_of_years} years.')\n"
   ]
  },
  {
   "cell_type": "code",
   "execution_count": 41,
   "id": "e2dad2c8-26f8-4b58-adf0-ca5ef93dd042",
   "metadata": {},
   "outputs": [
    {
     "name": "stdout",
     "output_type": "stream",
     "text": [
      "          0\n",
      "0   Francis\n",
      "1     James\n",
      "2      Jean\n",
      "3     Jesse\n",
      "4    Jessie\n",
      "5      John\n",
      "6   Johnnie\n",
      "7    Joseph\n",
      "8       Lee\n",
      "9    Leslie\n",
      "10   Marion\n",
      "11    Ollie\n",
      "12   Robert\n",
      "13   Sidney\n",
      "14   Tommie\n",
      "15  William\n"
     ]
    }
   ],
   "source": [
    "#Ex.23\n",
    "# First, group by 'Name' and 'Year' and check if the name appears for both 'F' and 'M'\n",
    "gender_neutral_names = df.groupby(['Name', 'Year'])['Gender'].nunique().unstack()\n",
    "\n",
    "# Filter names that appear for both genders in all years\n",
    "popular_gender_neutral_names = gender_neutral_names[gender_neutral_names == 2].dropna(how='any').index\n",
    "\n",
    "# Display the list of most popular gender-neutral names\n",
    "popular_gender_neutral_names_list = list(popular_gender_neutral_names)\n",
    "\n",
    "popular_names_df = pd.DataFrame(popular_gender_neutral_names_list, columns=[0])\n",
    "\n",
    "print(popular_names_df)\n"
   ]
  },
  {
   "cell_type": "code",
   "execution_count": 5,
   "id": "9f56439b-5a5b-4c37-b828-a5ae33480251",
   "metadata": {},
   "outputs": [
    {
     "name": "stdout",
     "output_type": "stream",
     "text": [
      "Linda is the most popular unpopular name. This name was given to babies 99680 times.\n"
     ]
    }
   ],
   "source": [
    "#Ex.24\n",
    "# Find names that were given a small number of times (e.g., minimum number of times)\n",
    "max_count = df['Count'].max()\n",
    "\n",
    "# Filter the dataset to get the names that have the minimum count\n",
    "unpopular_names = df[df['Count'] == max_count]\n",
    "\n",
    "# Now, find the name that has the maximum count among these \"unpopular\" names\n",
    "most_popular_unpopular_name = unpopular_names.loc[unpopular_names['Count'].idxmax()]\n",
    "\n",
    "print(f\"{most_popular_unpopular_name['Name']} is the most popular unpopular name. This name was given to babies {most_popular_unpopular_name['Count']} times.\")\n"
   ]
  },
  {
   "cell_type": "code",
   "execution_count": 59,
   "id": "faf51292-2bdf-4a59-ae12-f9b2462bfab1",
   "metadata": {},
   "outputs": [
    {
     "name": "stdout",
     "output_type": "stream",
     "text": [
      "          Name  Count\n",
      "Year                 \n",
      "1880      John   9655\n",
      "1881      John   8769\n",
      "1882      John   9557\n",
      "1883      John   8894\n",
      "1884      John   9388\n",
      "...        ...    ...\n",
      "2010  Isabella  22883\n",
      "2011    Sophia  21816\n",
      "2012    Sophia  22267\n",
      "2013    Sophia  21147\n",
      "2014      Emma  20799\n",
      "\n",
      "[135 rows x 2 columns]\n"
     ]
    }
   ],
   "source": [
    "#Ex.27\n",
    "# Group by 'Year', find the name with the maximum count for each year\n",
    "most_popular_names_each_year = df.loc[df.groupby('Year')['Count'].idxmax(), ['Year', 'Name', 'Count']]\n",
    "\n",
    "# Set the 'Year' as the index for easier readability (optional)\n",
    "most_popular_names_each_year.set_index('Year', inplace=True)\n",
    "\n",
    "print(most_popular_names_each_year)\n"
   ]
  },
  {
   "cell_type": "code",
   "execution_count": null,
   "id": "cb74ad35-0561-40a4-9a85-9005b776cd02",
   "metadata": {},
   "outputs": [],
   "source": []
  }
 ],
 "metadata": {
  "kernelspec": {
   "display_name": "Python 3 (ipykernel)",
   "language": "python",
   "name": "python3"
  },
  "language_info": {
   "codemirror_mode": {
    "name": "ipython",
    "version": 3
   },
   "file_extension": ".py",
   "mimetype": "text/x-python",
   "name": "python",
   "nbconvert_exporter": "python",
   "pygments_lexer": "ipython3",
   "version": "3.12.5"
  }
 },
 "nbformat": 4,
 "nbformat_minor": 5
}
